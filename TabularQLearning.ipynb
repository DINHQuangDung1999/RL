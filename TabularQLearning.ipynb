{
 "cells": [
  {
   "cell_type": "code",
   "execution_count": 1,
   "metadata": {},
   "outputs": [],
   "source": [
    "import gymnasium as gym\n",
    "import numpy as np"
   ]
  },
  {
   "cell_type": "code",
   "execution_count": 66,
   "metadata": {},
   "outputs": [],
   "source": [
    "env = gym.make('FrozenLake-v1', map_name = '4x4')\n",
    "# model params\n",
    "lr = 0.9\n",
    "discount = 0.95\n",
    "H = 30000\n",
    "# init Q table\n",
    "q = np.zeros((env.observation_space.n, env.action_space.n))\n",
    "# e-greedy params\n",
    "eps = 1\n",
    "eps_decay = 0.001\n",
    "np.random.seed(10)\n",
    "# reward history\n",
    "rewards_hist = np.zeros(H)\n",
    "# training\n",
    "for episode in range(H):\n",
    "    # init state, termination status\n",
    "    state = env.reset()[0]\n",
    "    terminated = False\n",
    "    truncated = False\n",
    "    # training loop\n",
    "    while (not terminated and not truncated):\n",
    "        # e-greedy policy\n",
    "        pr = np.random.rand()\n",
    "        if pr < eps:\n",
    "            action = env.action_space.sample()\n",
    "        else:\n",
    "            action = np.argmax(q[state, :])\n",
    "        new_state, reward, terminated, truncated, _ = env.step(action)\n",
    "        q[state, action] += lr*(reward + discount*max(q[new_state, :]) - q[state, action])\n",
    "        state = new_state\n",
    "    # decay epsilon. When epsilon = 0, the action acts fully greedy.\n",
    "    eps = max(eps - eps_decay, 0)\n",
    "    # When reach goal, record\n",
    "    if reward == 1:\n",
    "        rewards_hist[episode] = 1\n",
    "env.close()"
   ]
  },
  {
   "cell_type": "code",
   "execution_count": 68,
   "metadata": {},
   "outputs": [],
   "source": [
    "env = gym.make('FrozenLake-v1', map_name = '4x4', render_mode = 'human')\n",
    "state = env.reset()[0]\n",
    "terminated = False\n",
    "truncated = False\n",
    "# training loop\n",
    "while (not terminated and not truncated):\n",
    "    action = np.argmax(q[state, :])\n",
    "    new_state, reward, terminated, truncated, _ = env.step(action)\n",
    "    state = new_state"
   ]
  },
  {
   "cell_type": "code",
   "execution_count": 63,
   "metadata": {},
   "outputs": [
    {
     "data": {
      "text/plain": [
       "array([0, 3, 0, 3, 0, 0, 2, 0, 3, 1, 0, 0, 0, 2, 1, 0], dtype=int64)"
      ]
     },
     "execution_count": 63,
     "metadata": {},
     "output_type": "execute_result"
    }
   ],
   "source": [
    "np.argmax(q, axis = 1)"
   ]
  },
  {
   "cell_type": "code",
   "execution_count": null,
   "metadata": {},
   "outputs": [],
   "source": []
  }
 ],
 "metadata": {
  "kernelspec": {
   "display_name": "Python 3",
   "language": "python",
   "name": "python3"
  },
  "language_info": {
   "codemirror_mode": {
    "name": "ipython",
    "version": 3
   },
   "file_extension": ".py",
   "mimetype": "text/x-python",
   "name": "python",
   "nbconvert_exporter": "python",
   "pygments_lexer": "ipython3",
   "version": "3.11.9"
  }
 },
 "nbformat": 4,
 "nbformat_minor": 2
}
